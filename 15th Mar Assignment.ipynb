{
 "cells": [
  {
   "cell_type": "markdown",
   "id": "ede18417-8439-4e34-9ef0-0fe67c5e87cc",
   "metadata": {},
   "source": [
    "# 15th March Assignment"
   ]
  },
  {
   "cell_type": "code",
   "execution_count": null,
   "id": "74104b74-c1b1-4742-8ff6-1ead39bb83fe",
   "metadata": {},
   "outputs": [],
   "source": []
  },
  {
   "cell_type": "markdown",
   "id": "5296d34c-6cc1-4c85-8e7f-efa0eebbe463",
   "metadata": {},
   "source": [
    "Q1. Explain the following with an example."
   ]
  },
  {
   "cell_type": "markdown",
   "id": "a0050fc9-2917-4f7f-910d-304371bfffe5",
   "metadata": {},
   "source": [
    "(a) Artificial Intelligence\n",
    "\n",
    "-> AI is a smart application that can perform its own tasks without human intervantion.\n",
    "\n",
    "-> AI encompasses a broad range of technologies and techniques that enable machines to perceive, reason, learn, and make decisions. \n",
    "\n",
    "* Example\n",
    "\n",
    "-> Siri,Alexa,ect,."
   ]
  },
  {
   "cell_type": "markdown",
   "id": "cc9e61a2-af64-4cc2-b06d-1de908af9504",
   "metadata": {},
   "source": [
    "(b) Machine Learning\n",
    "\n",
    "-> ML is a subset of AI.\n",
    "\n",
    "-> In ML we have focus on developing the algorithms and models.\n",
    "\n",
    "-> With the help of ML,computers can learn from and make prediction according to data.\n",
    "\n",
    "* Example\n",
    "\n",
    "-> Ajio,Amazon,Netflix,ect,."
   ]
  },
  {
   "cell_type": "markdown",
   "id": "60cd694a-6289-4dd1-b73b-4ca4e9f027df",
   "metadata": {},
   "source": [
    "(c) Deep Learning\n",
    "\n",
    "-> Basically DL mimic the humans.\n",
    "\n",
    "-> In DL we have to teach machines about particular topic.\n",
    "\n",
    "-> With the help of DL,machine learn itself.\n",
    "\n",
    "* Example\n",
    "\n",
    "-> Chatbots,Object Detection."
   ]
  },
  {
   "cell_type": "code",
   "execution_count": null,
   "id": "ab79cfb3-095e-497a-b8f0-1850e6eda257",
   "metadata": {},
   "outputs": [],
   "source": []
  },
  {
   "cell_type": "markdown",
   "id": "0f368683-361b-44a3-992d-e10404aecc59",
   "metadata": {},
   "source": [
    "Q2- What is Supervised Learning? List some exaples of Supervised Learning."
   ]
  },
  {
   "cell_type": "markdown",
   "id": "73ba4b92-0c2f-422d-9480-b192593e7b5c",
   "metadata": {},
   "source": [
    "-> In Supervised Learning user already know the output or form of the output.\n",
    "\n",
    "-> There are two types of Supervised Learning.\n",
    "   \n",
    "   (i) Categorical - It contains categorical output.\n",
    "   \n",
    "   (ii) Regression - It contains continuous output.\n",
    "   \n",
    "* Exaples\n",
    "\n",
    "Linear Regression \n",
    "\n",
    "Logistic Regression\n",
    "\n",
    "Decision Trees\n",
    "\n",
    "Naive Bayes\n",
    "\n",
    "Support Vactor Machine"
   ]
  },
  {
   "cell_type": "code",
   "execution_count": null,
   "id": "0b3d8fd9-3bea-4460-84bf-b8142278006d",
   "metadata": {},
   "outputs": [],
   "source": []
  },
  {
   "cell_type": "markdown",
   "id": "bd5cd98c-16a3-4d0d-9d28-bf4c9baaa208",
   "metadata": {},
   "source": [
    "Q3- What is Unsupervised Learning? List some exaples of Unsupervised Learning."
   ]
  },
  {
   "cell_type": "markdown",
   "id": "b8aa1d29-351e-4453-9232-a3e1152ec4a5",
   "metadata": {},
   "source": [
    "-> In Unsupervised Learning the user doesn't know the output form or output.\n",
    "\n",
    "* Examples \n",
    "\n",
    "Clustering\n",
    "\n",
    "Dimensionality Reduction\n",
    "\n",
    "Association Rule Learning\n",
    "\n",
    "Anomaly Detection\n",
    "\n",
    "Generative Models\n",
    "\n",
    "Density Estimation\n"
   ]
  },
  {
   "cell_type": "code",
   "execution_count": null,
   "id": "57f540a4-868b-4826-8af9-079bd966039a",
   "metadata": {},
   "outputs": [],
   "source": []
  },
  {
   "cell_type": "markdown",
   "id": "bb059a5a-9b8b-4077-9b0b-7a027bd1b9a4",
   "metadata": {},
   "source": [
    "Q4- What is the difference between AI, ML, DL, and DS?"
   ]
  },
  {
   "cell_type": "markdown",
   "id": "c3c77c99-1c40-4e46-9372-fa56b51c8ff6",
   "metadata": {},
   "source": [
    "AI stands for Artificial Intelligence.AI encompasses a wide range of technologies and techniques that enable machines to perceive, reason, learn, and make decisions. It is a broad field that includes various subfields such as machine learning and natural language processing.\n",
    "\n",
    "ML stands for Machine Learning, which is a subset of AI. It focuses on the development of algorithms and models that enable computers to learn from and make predictions or decisions based on data, without being explicitly programmed. It encompasses both supervised learning and unsupervised learning techniques.\n",
    "\n",
    "DL stands for Deep Learning, which is a subfield of machine learning. It is inspired by the structure and function of the human brain's neural networks. Deep learning algorithms use artificial neural networks with multiple layers to learn and extract complex patterns or representations from large amounts of data. \n",
    "\n",
    "DS stands for Data Science, which is a multidisciplinary field that combines scientific methods, algorithms, and systems to extract knowledge and insights from structured and unstructured data. Data science involves various techniques, including statistical analysis, data visualization, data mining, machine learning, and predictive modeling. Data scientists use these techniques to uncover patterns, make predictions, and inform decision-making processes."
   ]
  },
  {
   "cell_type": "code",
   "execution_count": null,
   "id": "c8975310-d90e-49f3-aced-1e70eda55a8e",
   "metadata": {},
   "outputs": [],
   "source": []
  },
  {
   "cell_type": "markdown",
   "id": "7a8e302a-4c96-4905-8340-217586f19a9d",
   "metadata": {},
   "source": [
    "Q6- What is train, test and validation split? Explain the importance of each term."
   ]
  },
  {
   "cell_type": "markdown",
   "id": "4c40e76c-80df-4cb1-93f8-05760a1977c3",
   "metadata": {},
   "source": [
    "Training Set: The training set is the portion of the dataset used to train the machine learning model.\n",
    "\n",
    "Test Set: The test set is used to evaluate the performance and generalization ability of the trained model.\n",
    "\n",
    "Validation Set: It helps in optimizing the model's performance and avoiding overfitting. During the model development process, different models or variations of a model may be trained using the training set, and their performance is evaluated on the validation set.\n",
    "\n",
    "Importance of each split:\n",
    "\n",
    "Training set: The training set is crucial as it is used to teach the model to learn from the provided data. The larger and more diverse the training set, the better the model can capture patterns and generalize to unseen data. The training set is essential for building an accurate and effective model.\n",
    "\n",
    "Test set: The test set allows us to assess the model's performance on unseen data, providing an unbiased estimate of how well the model can generalize. It helps in evaluating the model's accuracy and identifying any potential issues like overfitting or underfitting. The test set is crucial for determining the model's real-world performance and reliability.\n",
    "\n",
    "Validation set: The validation set helps in selecting the best model or optimizing the hyperparameters. It provides an independent evaluation of different models and their variations. The validation set aids in preventing overfitting, where a model performs well on the training set but poorly on new data. By fine-tuning the model based on the performance on the validation set, we can improve its generalization ability."
   ]
  },
  {
   "cell_type": "code",
   "execution_count": null,
   "id": "12e8d85c-7530-4f5e-9e8f-c8b40e60bc85",
   "metadata": {},
   "outputs": [],
   "source": []
  },
  {
   "cell_type": "markdown",
   "id": "3722efda-ade9-453c-a56a-98e332477216",
   "metadata": {},
   "source": [
    "Q7- How can unsupervised learning can be used in anomaly detection?"
   ]
  },
  {
   "cell_type": "markdown",
   "id": "23d21ad4-4a8d-44d6-ba1b-2e1c5cb68456",
   "metadata": {},
   "source": [
    "Clustering-based Approaches: Unsupervised learning algorithms like k-means clustering, DBSCAN, or Gaussian Mixture Models (GMM) can be employed for anomaly detection.\n",
    "\n",
    "Density-based Approaches: Density estimation techniques such as Kernel Density Estimation (KDE) can be utilized for anomaly detection.\n",
    "\n",
    "Autoencoders: Autoencoders are deep learning models that can be used for unsupervised anomaly detection. They are neural networks trained to reconstruct their input data. If an instance cannot be accurately reconstructed by the autoencoder, it is considered an anomaly. Autoencoders learn the normal patterns of the data during training and are sensitive to deviations from those patterns.\n",
    "\n",
    "One-Class SVM: Support Vector Machines (SVM) can be employed for anomaly detection using a one-class SVM approach. In this method, a model is trained on the normal instances, aiming to create a boundary that encompasses the normal data.\n",
    "\n",
    "Isolation Forest: Isolation Forest is an unsupervised learning algorithm that explicitly isolates anomalies by constructing random decision trees. The intuition is that anomalies are easier to isolate and require fewer splits in the tree structure compared to normal instances. By measuring the number of splits required to isolate an instance, anomalies can be identified."
   ]
  },
  {
   "cell_type": "code",
   "execution_count": null,
   "id": "47c9adf9-4ab8-478b-815c-a3532d8215de",
   "metadata": {},
   "outputs": [],
   "source": []
  },
  {
   "cell_type": "markdown",
   "id": "f37ee6af-9448-47dd-af71-e3ebb0847738",
   "metadata": {},
   "source": [
    "Q8- List down some commonly used supervised learning algorithms and unsupervised learning\n",
    "algorithms."
   ]
  },
  {
   "cell_type": "markdown",
   "id": "3b3e7628-0ffb-439c-8457-79ac2a764e1e",
   "metadata": {},
   "source": [
    "* Supervised Learning Algorithms\n",
    "\n",
    "Linear Regression\n",
    "Logistic Regression\n",
    "Decision Trees\n",
    "Random Forest\n",
    "Support Vector Machines (SVM)\n",
    "Naive Bayes\n",
    "K-Nearest Neighbors (KNN)\n",
    "Neural Networks \n",
    "\n",
    "* Unsupervised Learning Algorithms\n",
    "\n",
    "(i)Clustering Algorithms :\n",
    "K-means Clustering\n",
    "Hierarchical Clustering\n",
    "Mean Shift Clustering\n",
    "\n",
    "(ii)Association Rule Learning:\n",
    "Apriori\n",
    "FP-Growth\n",
    "\n",
    "(iii)Dimensionality Reduction Techniques:\n",
    "t-SNE \n",
    "Autoencoders\n",
    "PCA\n",
    "\n",
    "(iv)Anomaly Detection Algorithms:\n",
    "Isolation Forest\n",
    "One-Class SVM\n",
    "Local Outlier Factor (LOF)"
   ]
  },
  {
   "cell_type": "code",
   "execution_count": null,
   "id": "b2e34d64-f76d-494c-a933-622d9bb80231",
   "metadata": {},
   "outputs": [],
   "source": []
  }
 ],
 "metadata": {
  "kernelspec": {
   "display_name": "Python 3 (ipykernel)",
   "language": "python",
   "name": "python3"
  },
  "language_info": {
   "codemirror_mode": {
    "name": "ipython",
    "version": 3
   },
   "file_extension": ".py",
   "mimetype": "text/x-python",
   "name": "python",
   "nbconvert_exporter": "python",
   "pygments_lexer": "ipython3",
   "version": "3.10.8"
  }
 },
 "nbformat": 4,
 "nbformat_minor": 5
}
